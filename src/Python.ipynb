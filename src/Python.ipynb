{
 "cells": [
  {
   "cell_type": "code",
   "execution_count": null,
   "metadata": {},
   "outputs": [],
   "source": [
    ">> a = raw_input()\n",
    "5 4 3 2\n",
    ">> lis = a.split()\n",
    ">> print (lis)\n",
    "['5', '4', '3', '2']\n",
    ">> newlis = list(map(int, lis))\n",
    ">> print (newlis)\n",
    "[5, 4, 3, 2]\n",
    "\n",
    "CREATING SETS\n",
    "\n",
    ">> myset = {1, 2} # Directly assigning values to a set\n",
    ">> myset = set()  # Initializing a set\n",
    ">> myset = set(['a', 'b']) # Creating a set from a list\n",
    ">> myset\n",
    "{'a', 'b'}\n",
    "\n",
    "\n",
    "MODIFYING SETS\n",
    "\n",
    "Using the add() function:\n",
    "\n",
    ">> myset.add('c')\n",
    ">> myset\n",
    "{'a', 'c', 'b'}\n",
    ">> myset.add('a') # As 'a' already exists in the set, nothing happens\n",
    ">> myset.add((5, 4))\n",
    ">> myset\n",
    "{'a', 'c', 'b', (5, 4)}\n",
    "\n",
    "Using the update() function:\n",
    "\n",
    ">> myset.update([1, 2, 3, 4]) # update() only works for iterable objects\n",
    ">> myset\n",
    "{'a', 1, 'c', 'b', 4, 2, (5, 4), 3}\n",
    ">> myset.update({1, 7, 8})\n",
    ">> myset\n",
    "{'a', 1, 'c', 'b', 4, 7, 8, 2, (5, 4), 3}\n",
    ">> myset.update({1, 6}, [5, 13])\n",
    ">> myset\n",
    "{'a', 1, 'c', 'b', 4, 5, 6, 7, 8, 2, (5, 4), 13, 3}\n",
    "\n",
    "REMOVING ITEMS \n",
    "\n",
    "Both the discard() and remove() functions take a single value as an argument and removes that value from the set. If that value is not present, discard() does nothing, but remove() will raise a KeyError exception.\n",
    "\n",
    ">> myset.discard(10)\n",
    ">> myset\n",
    "{'a', 1, 'c', 'b', 4, 5, 7, 8, 2, 12, (5, 4), 13, 11, 3}\n",
    ">> myset.remove(13)\n",
    ">> myset\n",
    "{'a', 1, 'c', 'b', 4, 5, 7, 8, 2, 12, (5, 4), 11, 3}\n",
    "\n",
    "\n",
    "COMMON SET OPERATIONS Using union(), intersection() and difference() functions. \n",
    "\n",
    ">> a = {2, 4, 5, 9}\n",
    ">> b = {2, 4, 11, 12}\n",
    ">> a.union(b) # Values which exist in a or b\n",
    "{2, 4, 5, 9, 11, 12}\n",
    ">> a.intersection(b) # Values which exist in a and b\n",
    "{2, 4}\n",
    ">> a.difference(b) # Values which exist in a but not in b\n",
    "{9, 5}\n",
    "\n",
    "The union() and intersection() functions are symmetric methods: \n",
    "\n",
    ">> a.union(b) == b.union(a)\n",
    "True\n",
    ">> a.intersection(b) == b.intersection(a)\n",
    "True\n",
    ">> a.difference(b) == b.difference(a)\n",
    "False"
   ]
  },
  {
   "cell_type": "code",
   "execution_count": null,
   "metadata": {},
   "outputs": [],
   "source": [
    "#sort dictionary by values\n",
    "sorted(dictionary.items(), key = lambda kv:(kv[1], kv[0]))"
   ]
  },
  {
   "cell_type": "code",
   "execution_count": null,
   "metadata": {},
   "outputs": [],
   "source": [
    "#Reduce :  It applies a rolling computation to sequential pairs of values in a list\n",
    "\n",
    "from functools import reduce\n",
    "product = reduce((lambda x, y: x * y), [1, 2, 3, 4])\n",
    "\n",
    "# Output: 24"
   ]
  },
  {
   "cell_type": "code",
   "execution_count": null,
   "metadata": {},
   "outputs": [],
   "source": [
    "To find count of repetition of consecutive element\n",
    "from itertools import groupby\n",
    "s = input()\n",
    "for key,grp in groupby(s):\n",
    "    length = len(list(grp))\n",
    "    print(f\"({key}, {length})\")\n",
    "    \n",
    "Input:11223334\n",
    "Output;\n",
    "    \n",
    "(1, 2)\n",
    "(2, 2)\n",
    "(3, 3)\n",
    "(4, 1)\n"
   ]
  },
  {
   "cell_type": "markdown",
   "metadata": {},
   "source": [
    "# Regular Expression"
   ]
  },
  {
   "cell_type": "code",
   "execution_count": null,
   "metadata": {},
   "outputs": [],
   "source": [
    "import re\n",
    "DATA = \"Hey, you - what are you doing here!?\"\n",
    "print re.findall(r\"[\\w']+\", DATA)\n",
    "# Prints ['Hey', 'you', 'what', 'are', 'you', 'doing', 'here']"
   ]
  },
  {
   "cell_type": "code",
   "execution_count": 24,
   "metadata": {},
   "outputs": [
    {
     "data": {
      "text/plain": [
       "['', 'something', 'co1']"
      ]
     },
     "execution_count": 24,
     "metadata": {},
     "output_type": "execute_result"
    }
   ],
   "source": [
    "import re\n",
    "s = '@something.co1'\n",
    "re.split('; |, |\\@|\\.', s)"
   ]
  },
  {
   "cell_type": "code",
   "execution_count": null,
   "metadata": {},
   "outputs": [],
   "source": [
    "group()\n",
    "A group() expression returns one or more subgroups of the match. \n",
    "\n",
    "Code\n",
    ">>> import re\n",
    ">>> m = re.match(r'(\\w+)@(\\w+)\\.(\\w+)','username@hackerrank.com')\n",
    ">>> m.group(0)       # The entire match \n",
    "'username@hackerrank.com'\n",
    ">>> m.group(1)       # The first parenthesized subgroup.\n",
    "'username'\n",
    ">>> m.group(2)       # The second parenthesized subgroup.\n",
    "'hackerrank'\n",
    ">>> m.group(3)       # The third parenthesized subgroup.\n",
    "'com'\n",
    ">>> m.group(1,2,3)   # Multiple arguments give us a tuple.\n",
    "('username', 'hackerrank', 'com')\n",
    "\n",
    "groups()\n",
    "A groups() expression returns a tuple containing all the subgroups of the match. \n",
    "Code\n",
    "\n",
    ">>> import re\n",
    ">>> m = re.match(r'(\\w+)@(\\w+)\\.(\\w+)','username@hackerrank.com')\n",
    ">>> m.groups()\n",
    "('username', 'hackerrank', 'com')\n",
    "\n",
    "groupdict()\n",
    "A groupdict() expression returns a dictionary containing all the named subgroups of the match, keyed by the subgroup name. \n",
    "Code\n",
    "\n",
    ">>> m = re.match(r'(?P<user>\\w+)@(?P<website>\\w+)\\.(?P<extension>\\w+)','myname@hackerrank.com')\n",
    ">>> m.groupdict()\n",
    "{'website': 'hackerrank', 'user': 'myname', 'extension': 'com'}\n",
    "\n",
    "\n",
    "re.findall()\n",
    "The expression re.findall() returns all the non-overlapping matches of patterns in a string as a list of strings. \n",
    "Code\n",
    "\n",
    ">>> import re\n",
    ">>> re.findall(r'\\w','http://www.hackerrank.com/')\n",
    "['h', 't', 't', 'p', 'w', 'w', 'w', 'h', 'a', 'c', 'k', 'e', 'r', 'r', 'a', 'n', 'k', 'c', 'o', 'm']\n",
    "re.finditer()\n",
    "The expression re.finditer() returns an iterator yielding MatchObject instances over all non-overlapping matches for the re pattern in the string. \n",
    "Code\n",
    "\n",
    ">>> import re\n",
    ">>> re.finditer(r'\\w','http://www.hackerrank.com/')\n",
    "<callable-iterator object at 0x0266C790>\n",
    ">>> map(lambda x: x.group(),re.finditer(r'\\w','http://www.hackerrank.com/'))\n",
    "['h', 't', 't', 'p', 'w', 'w', 'w', 'h', 'a', 'c', 'k', 'e', 'r', 'r', 'a', 'n', 'k', 'c', 'o', 'm']"
   ]
  },
  {
   "cell_type": "code",
   "execution_count": null,
   "metadata": {},
   "outputs": [],
   "source": [
    "import re\n",
    "for _ in range(int(input())):\n",
    "    print(bool(re.match(r'^[-+]?[0-9]*\\.[0-9]+$', input())))\n",
    "-1.00\n",
    "+4.54\n",
    "True \n",
    "True"
   ]
  },
  {
   "cell_type": "code",
   "execution_count": 34,
   "metadata": {},
   "outputs": [
    {
     "name": "stdin",
     "output_type": "stream",
     "text": [
      " rabcdeefgyYhFjkIoomnpOeorteeeeet\n"
     ]
    },
    {
     "name": "stdout",
     "output_type": "stream",
     "text": [
      "ee\n",
      "Ioo\n",
      "Oeo\n",
      "eeeee\n"
     ]
    }
   ],
   "source": [
    "import re\n",
    "v = \"aeiou\"\n",
    "c = \"qwrtypsdfghjklzxcvbnm\"\n",
    "m = re.findall(r\"(?<=[%s])([%s]{2,})[%s]\" % (c, v, c), input(), flags = re.I)\n",
    "print('\\n'.join(m or ['-1']))"
   ]
  },
  {
   "cell_type": "code",
   "execution_count": null,
   "metadata": {},
   "outputs": [],
   "source": []
  },
  {
   "cell_type": "markdown",
   "metadata": {},
   "source": [
    "### Validate phone number"
   ]
  },
  {
   "cell_type": "code",
   "execution_count": 11,
   "metadata": {},
   "outputs": [
    {
     "name": "stdout",
     "output_type": "stream",
     "text": [
      "True\n"
     ]
    }
   ],
   "source": [
    "import re\n",
    "num1 = '9587456281'\n",
    "num2 = '1252478965'\n",
    "if re.match(r'^[789](\\d+)',num1):\n",
    "    print(True)\n",
    "else:\n",
    "    print(False)"
   ]
  },
  {
   "cell_type": "markdown",
   "metadata": {},
   "source": [
    "### validate Email"
   ]
  },
  {
   "cell_type": "code",
   "execution_count": 85,
   "metadata": {},
   "outputs": [
    {
     "name": "stdout",
     "output_type": "stream",
     "text": [
      "<_sre.SRE_Match object; span=(0, 22), match='D_O.S-HI-@hackerrank.c'>\n"
     ]
    }
   ],
   "source": [
    "# Enter your code here. Read input from STDIN. Print output to STDOUT\n",
    "import email.utils\n",
    "import re\n",
    "for _ in range(int(input())):\n",
    "    namewithadd = input()\n",
    "    name,email_id = email.utils.parseaddr(namewithadd)\n",
    "    if re.match(r'^[a-z][\\w_.-]+@[a-z]+\\.[a-z]{1,3}$',email_id,flags = re.I):\n",
    "        print(namewithadd)\n",
    "Input:\n",
    "    2\n",
    "    DEXTER <dexter@hotmail.com>\n",
    "    VIRUS <virus!@variable.:p>\n",
    "Output:\n",
    "    DEXTER <dexter@hotmail.com>"
   ]
  },
  {
   "cell_type": "markdown",
   "metadata": {},
   "source": [
    "#### validate color "
   ]
  },
  {
   "cell_type": "code",
   "execution_count": 94,
   "metadata": {},
   "outputs": [
    {
     "name": "stdout",
     "output_type": "stream",
     "text": [
      "['color: #FfFdF8', 'color:#aef']\n"
     ]
    }
   ],
   "source": [
    "s = 'color: #FfFdF8; background-color:#aef'\n",
    "import re\n",
    "print(re.findall(r'[\\w: ]+#[a-z0-9]+',s,flags = re.I))"
   ]
  },
  {
   "cell_type": "code",
   "execution_count": 97,
   "metadata": {},
   "outputs": [
    {
     "name": "stdout",
     "output_type": "stream",
     "text": [
      "['1', '1', '0', '2', '3', '5', '4']\n",
      "['B', 'C', 'D']\n",
      "7\n"
     ]
    }
   ],
   "source": [
    "ss = 'B1CD102354'\n",
    "print(re.findall(r'[0-9]',ss))\n",
    "print(re.findall(r'[A-Z]',ss))\n",
    "print(len(re.findall(r'[0-9]',ss)))"
   ]
  },
  {
   "cell_type": "code",
   "execution_count": 126,
   "metadata": {},
   "outputs": [
    {
     "name": "stdout",
     "output_type": "stream",
     "text": [
      "<_sre.SRE_Match object; span=(0, 19), match='5133-3367-8912-3456'>\n",
      "2\n"
     ]
    }
   ],
   "source": [
    "from itertools import groupby\n",
    "sss = '5133-3367-8912-3456'\n",
    "print(re.match(r'^[456][0-9]{3}(-){1}[0-9]{4}(-){1}[0-9]{4}(-){1}[0-9]{4}$',sss))\n",
    "maxi = max([len(list(grp)) for key,grp in groupby(sss)])\n",
    "print(maxi)"
   ]
  },
  {
   "cell_type": "code",
   "execution_count": null,
   "metadata": {},
   "outputs": [],
   "source": [
    "The re.sub() tool (sub stands for substitution) evaluates a pattern and, for each valid match, it calls a method (or lambda). \n",
    "The method is called for all matches and can be used to modify strings in different ways. \n",
    "The re.sub() method returns the modified string as an output.\n",
    "\n",
    "example:\n",
    "    import re\n",
    "\n",
    "    #Squaring numbers\n",
    "    def square(match):\n",
    "        number = int(match.group(0))\n",
    "        return str(number**2)\n",
    "\n",
    "    print re.sub(r\"\\d+\", square, \"1 2 3 4 5 6 7 8 9\")\n",
    "output:\n",
    "    1 4 9 16 25 36 49 64 81\n",
    "    \n",
    "    import re\n",
    "\n",
    "    html = \"\"\"\n",
    "    <head>\n",
    "    <title>HTML</title>\n",
    "    </head>\n",
    "    <object type=\"application/x-flash\" \n",
    "      data=\"your-file.swf\" \n",
    "      width=\"0\" height=\"0\">\n",
    "      <!-- <param name=\"movie\"  value=\"your-file.swf\" /> -->\n",
    "      <param name=\"quality\" value=\"high\"/>\n",
    "    </object>\n",
    "    \"\"\"\n",
    "\n",
    "    print re.sub(\"(<!--.*?-->)\", \"\", html) #remove comment\n",
    "    \n",
    "Output:\n",
    "    <head>\n",
    "    <title>HTML</title>\n",
    "    </head>\n",
    "    <object type=\"application/x-flash\" \n",
    "      data=\"your-file.swf\" \n",
    "      width=\"0\" height=\"0\">\n",
    "\n",
    "      <param name=\"quality\" value=\"high\"/>\n",
    "    </object>"
   ]
  },
  {
   "cell_type": "code",
   "execution_count": 38,
   "metadata": {},
   "outputs": [
    {
     "name": "stdout",
     "output_type": "stream",
     "text": [
      "And\n"
     ]
    }
   ],
   "source": [
    "import re\n",
    "N = int(input())\n",
    "for i in range(N):\n",
    "    print(re.sub(r'(?<= )(&&|\\|\\|)(?= )', lambda x: 'and' if x.group() == '&&' else 'or',input()))"
   ]
  },
  {
   "cell_type": "code",
   "execution_count": 116,
   "metadata": {},
   "outputs": [
    {
     "name": "stdout",
     "output_type": "stream",
     "text": [
      "07895462130 7895462130\n",
      "919875641230 9875641230\n",
      "+91 789546 62130 +91 919596 69878 +91 987564 41230\n"
     ]
    }
   ],
   "source": [
    "l1 = ['07895462130', '919875641230', '9195969878']\n",
    "l2 = []\n",
    "for x in l1:\n",
    "    if len(x) == 10:\n",
    "        l2.append('+91 '+x[0:6] + ' ' + x[5:])\n",
    "        \n",
    "    elif re.findall('(?<=91)(.*?)$',x):\n",
    "        number = re.findall('(?<=91)(.*?)$',x)[0]\n",
    "        print(x,number)\n",
    "        l2.append('+91 '+number[0:6] + ' ' + number[5:])\n",
    "        \n",
    "    elif re.findall('(?<=\\+91)(.*?)$',x):\n",
    "        number = re.findall('(?<=\\+91)(.*?)$',x)\n",
    "        print(x,number)\n",
    "        l2.append('+91 '+number[0:6] + ' ' + number[5:])\n",
    "        \n",
    "    elif re.findall('(?<=0)(.*?)$',x):\n",
    "        number = re.findall('(?<=0)(.*?)$',x)[0]\n",
    "        print(x,number)\n",
    "        l2.append('+91 '+number[0:6] + ' ' + number[5:])\n",
    "    \n",
    "    else:\n",
    "        pass\n",
    "print(*sorted(l2))"
   ]
  },
  {
   "cell_type": "markdown",
   "metadata": {},
   "source": [
    "#### NUMPY\n"
   ]
  },
  {
   "cell_type": "code",
   "execution_count": null,
   "metadata": {},
   "outputs": [],
   "source": [
    "The NumPy (Numeric Python) package helps us manipulate large arrays and matrices of numeric data.\n",
    "\n",
    "To use the NumPy module, we need to import it using:\n",
    "\n",
    "import numpy\n",
    "Arrays\n",
    "\n",
    "A NumPy array is a grid of values. They are similar to lists, except that every element of an array must be the same type.\n",
    "\n",
    "import numpy\n",
    "\n",
    "a = numpy.array([1,2,3,4,5])\n",
    "print a[1]          #2\n",
    "\n",
    "b = numpy.array([1,2,3,4,5],float)\n",
    "print b[1]          #2.0"
   ]
  },
  {
   "cell_type": "code",
   "execution_count": 122,
   "metadata": {},
   "outputs": [
    {
     "name": "stdout",
     "output_type": "stream",
     "text": [
      "[3, 2, 1]\n"
     ]
    }
   ],
   "source": [
    "l1 = [1,2,3]\n",
    "print(l1[::-1])"
   ]
  },
  {
   "cell_type": "code",
   "execution_count": null,
   "metadata": {},
   "outputs": [],
   "source": [
    "shape:\n",
    "The shape tool gives a tuple of array dimensions and can be used to change the dimensions of an array.\n",
    "(a). Using shape to get array dimensions\n",
    "import numpy\n",
    "my__1D_array = numpy.array([1, 2, 3, 4, 5])\n",
    "print my_1D_array.shape     #(5,) -> 5 rows and 0 columns\n",
    "\n",
    "my__2D_array = numpy.array([[1, 2],[3, 4],[6,5]])\n",
    "print my_2D_array.shape     #(3, 2) -> 3 rows and 2 columns \n",
    "\n",
    "(b). Using shape to change array dimensions\n",
    "import numpy\n",
    "change_array = numpy.array([1,2,3,4,5,6])\n",
    "change_array.shape = (3, 2)\n",
    "print change_array      \n",
    "#Output\n",
    "[[1 2]\n",
    "[3 4]\n",
    "[5 6]]\n",
    "\n",
    "reshape:\n",
    "The reshape tool gives a new shape to an array without changing its data. It creates a new array and does not modify the original array itself.\n",
    "\n",
    "import numpy\n",
    "my_array = numpy.array([1,2,3,4,5,6])\n",
    "print numpy.reshape(my_array,(3,2))\n",
    "#Output\n",
    "[[1 2]\n",
    "[3 4]\n",
    "[5 6]]\n",
    "\n",
    "Transpose:\n",
    "We can generate the transposition of an array using the tool numpy.transpose. \n",
    "It will not affect the original array, but it will create a new array.\n",
    "import numpy\n",
    "my_array = numpy.array([[1,2,3],\n",
    "                        [4,5,6]])\n",
    "print numpy.transpose(my_array)\n",
    "#Output\n",
    "[[1 4]\n",
    " [2 5]\n",
    " [3 6]]\n",
    "\n",
    "Flatten:\n",
    "The tool flatten creates a copy of the input array flattened to one dimension.\n",
    "\n",
    "import numpy\n",
    "my_array = numpy.array([[1,2,3],\n",
    "                        [4,5,6]])\n",
    "print my_array.flatten()\n",
    "#Output\n",
    "[1 2 3 4 5 6]\n",
    "\n",
    "\n",
    "Concatenate\n",
    "Two or more arrays can be concatenated together using the concatenate function with a tuple of the arrays to be joined:\n",
    "import numpy\n",
    "array_1 = numpy.array([1,2,3])\n",
    "array_2 = numpy.array([4,5,6])\n",
    "array_3 = numpy.array([7,8,9])\n",
    "print numpy.concatenate((array_1, array_2, array_3))    \n",
    "#Output\n",
    "[1 2 3 4 5 6 7 8 9]\n",
    "If an array has more than one dimension, it is possible to specify the axis along which multiple arrays are concatenated. By default, it is along the first dimension.\n",
    "import numpy\n",
    "array_1 = numpy.array([[1,2,3],[0,0,0]])\n",
    "array_2 = numpy.array([[0,0,0],[7,8,9]])\n",
    "print numpy.concatenate((array_1, array_2), axis = 1)   \n",
    "#Output\n",
    "[[1 2 3 0 0 0]\n",
    " [0 0 0 7 8 9]]    \n",
    "\n",
    "\n",
    "zeros\n",
    "The zeros tool returns a new array with a given shape and type filled with 's.\n",
    "import numpy\n",
    "print numpy.zeros((1,2))                    #Default type is float\n",
    "#Output : [[ 0.  0.]] \n",
    "print numpy.zeros((1,2), dtype = numpy.int) #Type changes to int\n",
    "#Output : [[0 0]]\n",
    "\n",
    "ones\n",
    "The ones tool returns a new array with a given shape and type filled with 's.\n",
    "import numpy\n",
    "print numpy.ones((1,2))                    #Default type is float\n",
    "#Output : [[ 1.  1.]] \n",
    "print numpy.ones((1,2), dtype = numpy.int) #Type changes to int\n",
    "#Output : [[1 1]]   \n",
    "\n",
    "\n",
    "identity\n",
    "The identity tool returns an identity array. An identity array is a square matrix with all the main diagonal elements as  and the rest as . The default type of elements is float.\n",
    "import numpy\n",
    "print numpy.identity(3) #3 is for  dimension 3 X 3\n",
    "#Output\n",
    "[[ 1.  0.  0.]\n",
    " [ 0.  1.  0.]\n",
    " [ 0.  0.  1.]]\n",
    "\n",
    "eye\n",
    "The eye tool returns a 2-D array with 's as the diagonal and 's elsewhere. The diagonal can be main, upper or lower depending on the optional parameter . A positive  is for the upper diagonal, a negative  is for the lower, and a   (default) is for the main diagonal.\n",
    "import numpy\n",
    "print numpy.eye(8, 7, k = 1)    # 8 X 7 Dimensional array with first upper diagonal 1.\n",
    "#Output\n",
    "[[ 0.  1.  0.  0.  0.  0.  0.]\n",
    " [ 0.  0.  1.  0.  0.  0.  0.]\n",
    " [ 0.  0.  0.  1.  0.  0.  0.]\n",
    " [ 0.  0.  0.  0.  1.  0.  0.]\n",
    " [ 0.  0.  0.  0.  0.  1.  0.]\n",
    " [ 0.  0.  0.  0.  0.  0.  1.]\n",
    " [ 0.  0.  0.  0.  0.  0.  0.]\n",
    " [ 0.  0.  0.  0.  0.  0.  0.]]\n",
    "print numpy.eye(8, 7, k = -2)   # 8 X 7 Dimensional array with second lower diagonal 1.\n",
    "\n",
    "\n"
   ]
  },
  {
   "cell_type": "code",
   "execution_count": 8,
   "metadata": {},
   "outputs": [
    {
     "name": "stdout",
     "output_type": "stream",
     "text": [
      "[[1 2 3]\n",
      " [1 0 0]\n",
      " [0 0 0]\n",
      " [7 8 9]]\n"
     ]
    }
   ],
   "source": [
    "import numpy\n",
    "array_1 = numpy.array([[1,2,3],[1,0,0]])\n",
    "array_2 = numpy.array([[0,0,0],[7,8,9]])\n",
    "print(numpy.concatenate((array_1, array_2), axis = 0))"
   ]
  },
  {
   "cell_type": "code",
   "execution_count": 14,
   "metadata": {},
   "outputs": [
    {
     "data": {
      "text/plain": [
       "array([[1., 0., 0.],\n",
       "       [0., 1., 0.],\n",
       "       [0., 0., 1.],\n",
       "       [0., 0., 0.]])"
      ]
     },
     "execution_count": 14,
     "metadata": {},
     "output_type": "execute_result"
    }
   ],
   "source": [
    "import numpy\n",
    "#numpy.identity(4)\n",
    "numpy.eye(4,3,k=0)"
   ]
  },
  {
   "cell_type": "code",
   "execution_count": null,
   "metadata": {},
   "outputs": [],
   "source": []
  }
 ],
 "metadata": {
  "kernelspec": {
   "display_name": "Python 3",
   "language": "python",
   "name": "python3"
  },
  "language_info": {
   "codemirror_mode": {
    "name": "ipython",
    "version": 3
   },
   "file_extension": ".py",
   "mimetype": "text/x-python",
   "name": "python",
   "nbconvert_exporter": "python",
   "pygments_lexer": "ipython3",
   "version": "3.6.8"
  }
 },
 "nbformat": 4,
 "nbformat_minor": 2
}
